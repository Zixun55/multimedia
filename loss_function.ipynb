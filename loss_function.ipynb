{
  "nbformat": 4,
  "nbformat_minor": 0,
  "metadata": {
    "colab": {
      "name": "loss function.ipynb",
      "provenance": [],
      "collapsed_sections": []
    },
    "kernelspec": {
      "name": "python3",
      "display_name": "Python 3"
    },
    "language_info": {
      "name": "python"
    }
  },
  "cells": [
    {
      "cell_type": "code",
      "execution_count": 5,
      "metadata": {
        "colab": {
          "base_uri": "https://localhost:8080/"
        },
        "id": "FjvbgwkdvC9L",
        "outputId": "710f36c9-697a-4dd1-ee58-68c1e05a4de5"
      },
      "outputs": [
        {
          "output_type": "stream",
          "name": "stdout",
          "text": [
            "-0.036753229331395465 [-0.04609722 -0.05325172  0.17778479  0.6672599 ]\n",
            "beta = [-0.03675323 -0.04609722 -0.05325172  0.17778479  0.6672599 ]\n"
          ]
        }
      ],
      "source": [
        "import numpy as np\n",
        "from sklearn import *\n",
        "from sklearn.linear_model import LinearRegression\n",
        "from sklearn.model_selection import train_test_split\n",
        "from sklearn.metrics import mean_squared_error\n",
        "\n",
        "# def LOSS(b,x,y):\n",
        "#   b_mean = np.mean(b)\n",
        "#   b_t = b_mean.transpose\n",
        "#   x_t = x.transpose\n",
        "#   t1 = x_t.dot(b_mean)\n",
        "#   t2 = t1.dot(b_t)\n",
        "#   t3 = t2.dot(x)\n",
        "\n",
        "#   t4 = 2*x_t\n",
        "#   t5 = t4.dot(b_mean)\n",
        "#   t6 = t5.dot(y)\n",
        "#   a = y.transpose.dot(y) + t3 - t6\n",
        "#   return a\n",
        "\n",
        "def beta_mean(x_train_,y):\n",
        "  x = np.array([1]*len(x_train))\n",
        "  x = np.insert(x_train,0, values = x, axis = 1)\n",
        "  x_t = x.T\n",
        "  t1 = x_t.dot(x)\n",
        "  t2 = np.linalg.inv(t1)\n",
        "  t3 = t2.dot(x_t)\n",
        "  t4 = t3.dot(y)\n",
        "  return t4\n",
        "\n",
        "with open(\"iris_x.txt\") as f:\n",
        "    list = []\n",
        "    for i in range(150):\n",
        "        list.append(np.array(f.readline().split(), dtype=float))\n",
        "    data = np.array(list)\n",
        "with open(\"iris_y.txt\") as f:\n",
        "    label = np.array(f.read().split(), dtype=int)\n",
        "# 切割資料，指定 random_state = 20220413\n",
        "x_train, x_test, y_train, y_test = train_test_split(data, label, random_state=20220413)\n",
        "\n",
        "reg = LinearRegression().fit(x_train, y_train)\n",
        "beta_i = reg.coef_\n",
        "beta0 = reg.intercept_\n",
        "\n",
        "print(beta0,beta_i)\n",
        "\n",
        "print('beta =',beta_mean(x_train,y_train))\n"
      ]
    }
  ]
}